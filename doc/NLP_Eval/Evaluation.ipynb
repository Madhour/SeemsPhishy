{
 "cells": [
  {
   "cell_type": "markdown",
   "id": "6ae1987d-08dc-4b3c-8d1b-81d882306b4b",
   "metadata": {},
   "source": [
    "Ein Notebook welches die in der Evaluation behandelten Modelle darstellt. "
   ]
  },
  {
   "cell_type": "markdown",
   "id": "9f356b50-6fd0-44b4-944e-c7ca3b917ede",
   "metadata": {},
   "source": [
    "# Keywords\n",
    "## Yake"
   ]
  },
  {
   "cell_type": "code",
   "execution_count": 3,
   "id": "79b0c594-d3a7-4d3b-a01c-8ec4ef5cc400",
   "metadata": {},
   "outputs": [
    {
     "name": "stdout",
     "output_type": "stream",
     "text": [
      "('programming languages Python', 0.001295347548560416)\n",
      "('natural language processing', 0.002012136772192602)\n",
      "('advanced natural language', 0.0026621455770583914)\n",
      "('Python and Cython', 0.0035840985079775055)\n",
      "('open-source software library', 0.008298152696966859)\n",
      "('languages Python', 0.009390717577572831)\n",
      "('language processing', 0.01453240965208459)\n",
      "('software company Explosion', 0.015993140254256993)\n",
      "('advanced natural', 0.01840251352140607)\n",
      "('natural language', 0.019161829017826378)\n",
      "('programming languages', 0.019161829017826378)\n",
      "('open-source software', 0.032652195076937375)\n",
      "('Ines Montani', 0.03375876229391358)\n",
      "('Matthew Honnibal', 0.04096703831447956)\n",
      "('Honnibal and Ines', 0.04096703831447956)\n",
      "('Cython', 0.053691021027863564)\n",
      "('software library', 0.05857047036380304)\n",
      "('company Explosion', 0.06120870235178475)\n",
      "('Python', 0.06651575167590484)\n",
      "('library for advanced', 0.07441175006256819)\n"
     ]
    }
   ],
   "source": [
    "import yake\n",
    "kw_extractor = yake.KeywordExtractor()\n",
    "text = \"\"\"spaCy is an open-source software library for advanced natural language processing, written in the programming languages Python and Cython. The library is published under the MIT license and its main developers are Matthew Honnibal and Ines Montani, the founders of the software company Explosion.\"\"\"\n",
    "language = \"en\"\n",
    "max_ngram_size = 3\n",
    "deduplication_threshold = 0.9\n",
    "numOfKeywords = 20\n",
    "custom_kw_extractor = yake.KeywordExtractor(lan=language, n=max_ngram_size, dedupLim=deduplication_threshold, top=numOfKeywords, features=None)\n",
    "keywords = custom_kw_extractor.extract_keywords(text)\n",
    "for kw in keywords:\n",
    "    print(kw)"
   ]
  },
  {
   "cell_type": "markdown",
   "id": "35a6d476-37fd-44af-b4a2-cd0a1511f542",
   "metadata": {},
   "source": [
    "gute Performance\n",
    "\n",
    "Test mit unterschiedliche Parametern:"
   ]
  },
  {
   "cell_type": "code",
   "execution_count": 4,
   "id": "f29c7bdd-b998-44ba-a3c0-39d3a92f2434",
   "metadata": {},
   "outputs": [
    {
     "name": "stdout",
     "output_type": "stream",
     "text": [
      "('programming languages Python', 0.001295347548560416)\n",
      "('spaCy', 0.10241338875304772)\n",
      "('developers', 0.35038366644254865)\n"
     ]
    }
   ],
   "source": [
    "text = \"\"\"spaCy is an open-source software library for advanced natural language processing, written in the programming languages Python and Cython. The library is published under the MIT license and its main developers are Matthew Honnibal and Ines Montani, the founders of the software company Explosion.\"\"\"\n",
    "language = \"en\"\n",
    "max_ngram_size = 3\n",
    "deduplication_threshold = 0.1\n",
    "numOfKeywords = 20\n",
    "custom_kw_extractor = yake.KeywordExtractor(lan=language, n=max_ngram_size, dedupLim=deduplication_threshold, top=numOfKeywords, features=None)\n",
    "keywords = custom_kw_extractor.extract_keywords(text)\n",
    "for kw in keywords:\n",
    "    print(kw)"
   ]
  },
  {
   "cell_type": "markdown",
   "id": "47b18fc5-0377-4dec-8221-795ea8710cdd",
   "metadata": {},
   "source": [
    "deutlich schlechtere Performance"
   ]
  },
  {
   "cell_type": "code",
   "execution_count": 5,
   "id": "d5a39ce2-584f-440d-8c73-019aa4d9e304",
   "metadata": {},
   "outputs": [
    {
     "name": "stdout",
     "output_type": "stream",
     "text": [
      "('Cython', 0.053691021027863564)\n",
      "('Python', 0.06651575167590484)\n",
      "('spaCy', 0.10241338875304772)\n",
      "('processing', 0.10241338875304772)\n",
      "('written', 0.10241338875304772)\n",
      "('software', 0.11761141438285434)\n",
      "('library', 0.11761141438285434)\n",
      "('open-source', 0.13442462743719766)\n",
      "('advanced', 0.13442462743719766)\n",
      "('natural', 0.13442462743719766)\n",
      "('programming', 0.13442462743719766)\n",
      "('language', 0.13986690653033845)\n",
      "('languages', 0.13986690653033845)\n",
      "('Montani', 0.1646146628535413)\n",
      "('Explosion', 0.1646146628535413)\n",
      "('MIT', 0.19838041526103037)\n",
      "('Matthew', 0.19838041526103037)\n",
      "('Honnibal', 0.19838041526103037)\n",
      "('Ines', 0.19838041526103037)\n",
      "('published', 0.35038366644254865)\n"
     ]
    }
   ],
   "source": [
    "text = \"\"\"spaCy is an open-source software library for advanced natural language processing, written in the programming languages Python and Cython. The library is published under the MIT license and its main developers are Matthew Honnibal and Ines Montani, the founders of the software company Explosion.\"\"\"\n",
    "language = \"en\"\n",
    "max_ngram_size = 1\n",
    "deduplication_threshold = 0.9\n",
    "numOfKeywords = 20\n",
    "custom_kw_extractor = yake.KeywordExtractor(lan=language, n=max_ngram_size, dedupLim=deduplication_threshold, top=numOfKeywords, features=None)\n",
    "keywords = custom_kw_extractor.extract_keywords(text)\n",
    "for kw in keywords:\n",
    "    print(kw)"
   ]
  },
  {
   "cell_type": "markdown",
   "id": "466ca4ac-7266-4f6f-92ee-6f8a77fef09e",
   "metadata": {},
   "source": [
    "wichtige Zusammenhänge fehlen, max_ngram_size = 3 und deduplication_threshold = 0.9 scheinen gute Werte zu sein. \n",
    "\n",
    "\n",
    "Weiterer Test mit einem auf den Use-Case bezogenen Text:"
   ]
  },
  {
   "cell_type": "code",
   "execution_count": 6,
   "id": "8224d314-d487-4779-b107-c2fcd800dc3f",
   "metadata": {},
   "outputs": [
    {
     "name": "stdout",
     "output_type": "stream",
     "text": [
      "('promise of excellence', 0.02617581190902736)\n",
      "('Apple identity', 0.032484786288018264)\n",
      "('seal of approval', 0.03588587835699325)\n",
      "('Apple', 0.057956023860663765)\n",
      "('represent Apple', 0.08338318833688906)\n",
      "('excellence', 0.13704795315808577)\n",
      "('identity', 0.17543772098990723)\n",
      "('seal', 0.18612548139510782)\n",
      "('approval', 0.18612548139510782)\n",
      "('promise', 0.18612548139510782)\n",
      "('business or expertise', 0.18675169110600065)\n",
      "('authorized or certified', 0.24370924106100242)\n",
      "('area of business', 0.24370924106100242)\n",
      "('expertise', 0.3554905954934143)\n",
      "('reap the benefits', 0.4040201998862045)\n",
      "('identity and contribute', 0.42691931061881777)\n",
      "('authorized', 0.4426664094849176)\n",
      "('certified', 0.4426664094849176)\n",
      "('area', 0.4426664094849176)\n",
      "('business', 0.4426664094849176)\n"
     ]
    }
   ],
   "source": [
    "import yake\n",
    "kw_extractor = yake.KeywordExtractor()\n",
    "text = \"The Apple identity is a seal of approval and a promise of  excellence. When you are authorized or certified in your  area of business or expertise, you also represent Apple. By  following these guidelines, you reap the benefits of the  Apple identity and contribute to its strength.\"\n",
    "\n",
    "language = \"en\"\n",
    "max_ngram_size = 3\n",
    "deduplication_threshold = 0.9\n",
    "numOfKeywords = 20\n",
    "custom_kw_extractor = yake.KeywordExtractor(lan=language, n=max_ngram_size, dedupLim=deduplication_threshold, top=numOfKeywords, features=None)\n",
    "keywords = custom_kw_extractor.extract_keywords(text)\n",
    "for kw in keywords:\n",
    "    print(kw)"
   ]
  },
  {
   "cell_type": "markdown",
   "id": "1e474b03-f7aa-4336-8301-d9d30d4c4ab5",
   "metadata": {},
   "source": [
    "Die Keywords sind sehr zufriedenstellend. Um einen Vergleich zu haben werden beide Text-Beispiele noch bei Rake-Nltk geprüft."
   ]
  },
  {
   "cell_type": "markdown",
   "id": "95b4fff0-bfb0-4407-98c2-87a6a43d6763",
   "metadata": {},
   "source": [
    "## Rake-Nltk"
   ]
  },
  {
   "cell_type": "code",
   "execution_count": 1,
   "id": "526deff4-a783-4444-a241-8cb280b98d08",
   "metadata": {},
   "outputs": [
    {
     "name": "stderr",
     "output_type": "stream",
     "text": [
      "[nltk_data] Downloading package stopwords to\n",
      "[nltk_data]     C:\\Users\\Oliver.Wieder\\AppData\\Roaming\\nltk_data...\n",
      "[nltk_data]   Package stopwords is already up-to-date!\n",
      "[nltk_data] Downloading package punkt to\n",
      "[nltk_data]     C:\\Users\\Oliver.Wieder\\AppData\\Roaming\\nltk_data...\n",
      "[nltk_data]   Package punkt is already up-to-date!\n"
     ]
    },
    {
     "name": "stdout",
     "output_type": "stream",
     "text": [
      "['advanced natural language processing', 'software company explosion', 'programming languages python', 'source software library', 'mit license', 'matthew honnibal', 'main developers', 'ines montani', 'library', 'written', 'spacy', 'published', 'open', 'founders', 'cython']\n"
     ]
    }
   ],
   "source": [
    "import nltk\n",
    "nltk.download('stopwords')\n",
    "nltk.download('punkt')\n",
    "from rake_nltk import Rake\n",
    "rake_nltk_var = Rake()\n",
    "text = \"\"\"spaCy is an open-source software library for advanced natural language processing,\n",
    "written in the programming languages Python and Cython. The library is published under the MIT license\n",
    "and its main developers are Matthew Honnibal and Ines Montani, the founders of the software company Explosion.\"\"\"\n",
    "rake_nltk_var.extract_keywords_from_text(text)\n",
    "keyword_extracted = rake_nltk_var.get_ranked_phrases()\n",
    "print(keyword_extracted)"
   ]
  },
  {
   "cell_type": "code",
   "execution_count": 2,
   "id": "aacd8061-0c09-4d9b-9a2f-e0426b266da4",
   "metadata": {},
   "outputs": [
    {
     "name": "stdout",
     "output_type": "stream",
     "text": [
      "['also represent apple', 'apple identity', 'apple identity', 'strength', 'seal', 'reap', 'promise', 'guidelines', 'following', 'expertise', 'excellence', 'contribute', 'certified', 'business', 'benefits', 'authorized', 'area', 'approval']\n"
     ]
    },
    {
     "name": "stderr",
     "output_type": "stream",
     "text": [
      "[nltk_data] Downloading package stopwords to\n",
      "[nltk_data]     C:\\Users\\Oliver.Wieder\\AppData\\Roaming\\nltk_data...\n",
      "[nltk_data]   Package stopwords is already up-to-date!\n",
      "[nltk_data] Downloading package punkt to\n",
      "[nltk_data]     C:\\Users\\Oliver.Wieder\\AppData\\Roaming\\nltk_data...\n",
      "[nltk_data]   Package punkt is already up-to-date!\n"
     ]
    }
   ],
   "source": [
    "import nltk\n",
    "nltk.download('stopwords')\n",
    "nltk.download('punkt')\n",
    "from rake_nltk import Rake\n",
    "rake_nltk_var = Rake()\n",
    "text = \"The Apple identity is a seal of approval and a promise of  excellence. When you are authorized or certified in your  area of business or expertise, you also represent Apple. By  following these guidelines, you reap the benefits of the  Apple identity and contribute to its strength.\"\n",
    "\n",
    "rake_nltk_var.extract_keywords_from_text(text)\n",
    "keyword_extracted = rake_nltk_var.get_ranked_phrases()\n",
    "print(keyword_extracted)"
   ]
  },
  {
   "cell_type": "markdown",
   "id": "70898a3d-85d1-44d8-8467-f0f7a71feeb5",
   "metadata": {},
   "source": [
    "Die Yake Keywords sind im Vergleich besser, genaueres in der Doku."
   ]
  },
  {
   "cell_type": "markdown",
   "id": "44513f53-8431-4c34-9d29-58048c4a3778",
   "metadata": {},
   "source": [
    "# TF-IDF\n",
    "\n",
    "Das von Sklearn verwendete TF-IDF ist im SeemsPhishy Code zu finden, da hierzu das pre-processing und mehrere Dokumente nötig sind. (im Ordner \"NLP\" unter der Datei \"information_gain\")"
   ]
  },
  {
   "cell_type": "markdown",
   "id": "3d03ad17-47ec-4567-807a-79a848a44a67",
   "metadata": {},
   "source": [
    "# NER\n",
    "## Spacy"
   ]
  },
  {
   "cell_type": "code",
   "execution_count": 2,
   "id": "f72f21a9-3dec-4b43-82e9-60496456d4b2",
   "metadata": {},
   "outputs": [
    {
     "name": "stdout",
     "output_type": "stream",
     "text": [
      "(Cython, MIT, Matthew Honnibal, Ines Montani, Explosion)\n",
      "(Apple, Apple)\n"
     ]
    }
   ],
   "source": [
    "import spacy\n",
    "nlp = spacy.load(\"en_core_web_lg\")\n",
    "\n",
    "\n",
    "text = \"\"\"spaCy is an open-source software library for advanced natural language processing, \n",
    "written in the programming languages Python and Cython. The library is published under the MIT license\n",
    "and its main developers are Matthew Honnibal and Ines Montani, the founders of the software company Explosion.\"\"\"\n",
    "\n",
    "doc = nlp(text)\n",
    "print(doc.ents)\n",
    "\n",
    "text=\"\"\"The Apple identity is a seal of approval and a promise of  excellence. When you are authorized or certified in your  area of business or expertise, you also represent Apple. By  following these guidelines, you reap the benefits of the  Apple identity and contribute to its strength.\"\"\"\n",
    "\n",
    "doc = nlp(text)\n",
    "print(doc.ents)"
   ]
  },
  {
   "cell_type": "markdown",
   "id": "2960472d-5b96-468a-8cfa-8377e12c9533",
   "metadata": {},
   "source": [
    "Am Beispiel vom Apple Text lässt sich erkennen das wenig Mehrwert im Vergleich zu Yake entsteht..."
   ]
  },
  {
   "cell_type": "code",
   "execution_count": 1,
   "id": "c239eacd-df16-4686-b883-157267a6c758",
   "metadata": {},
   "outputs": [
    {
     "data": {
      "text/plain": [
       "[{'entity': 'B-ORG',\n",
       "  'score': 0.9982514,\n",
       "  'index': 2,\n",
       "  'word': 'Apple',\n",
       "  'start': 4,\n",
       "  'end': 9},\n",
       " {'entity': 'B-ORG',\n",
       "  'score': 0.99893415,\n",
       "  'index': 32,\n",
       "  'word': 'Apple',\n",
       "  'start': 167,\n",
       "  'end': 172},\n",
       " {'entity': 'B-ORG',\n",
       "  'score': 0.99777687,\n",
       "  'index': 46,\n",
       "  'word': 'Apple',\n",
       "  'start': 236,\n",
       "  'end': 241}]"
      ]
     },
     "execution_count": 1,
     "metadata": {},
     "output_type": "execute_result"
    }
   ],
   "source": [
    "from sklearn.feature_extraction.text import TfidfVectorizer\n",
    "from transformers import AutoTokenizer, AutoModelForTokenClassification\n",
    "from transformers import pipeline\n",
    "\n",
    "def ner_bert(texts):\n",
    "    tokenizer = AutoTokenizer.from_pretrained(\"dslim/bert-base-NER\")\n",
    "    model = AutoModelForTokenClassification.from_pretrained(\"dslim/bert-base-NER\")\n",
    "\n",
    "    nlp = pipeline(\"ner\", model=model, tokenizer=tokenizer)\n",
    "\n",
    "    ner_results = nlp(texts)\n",
    "    return ner_results\n",
    "\n",
    "text=\"\"\"The Apple identity is a seal of approval and a promise of  excellence. When you are authorized or certified in your  area of business or expertise, you also represent Apple. By  following these guidelines, you reap the benefits of the  Apple identity and contribute to its strength.\"\"\"\n",
    "\n",
    "ner_bert(text)"
   ]
  },
  {
   "cell_type": "markdown",
   "id": "9c7775d1-caca-4029-b276-ff6ffea4a7e6",
   "metadata": {},
   "source": [
    "Bert wäre eine Möglichkeit die NER weiter zu verbessern, da hier zusätzliche Werte zurückgegeben werden. Allerdings sind eigen Namen ohnehin für unsere Text Generation schwierig zu verarbeiten und besonders wichtige werden schon durch Yake gefunden. Somit spielt NER in unserem Use-Case eine geringere Rolle."
   ]
  },
  {
   "cell_type": "markdown",
   "id": "8b10b0f1-40ef-4dab-b255-2a728e096410",
   "metadata": {},
   "source": [
    "# Quellen\n",
    "\n",
    "\n",
    "https://towardsdatascience.com/keyword-extraction-process-in-python-with-natural-language-processing-nlp-d769a9069d5c\n",
    "\n",
    "\n",
    "https://huggingface.co/dslim/bert-base-NER\n",
    "\n",
    "\n",
    "https://towardsdatascience.com/tf-idf-explained-and-python-sklearn-implementation-b020c5e83275"
   ]
  },
  {
   "cell_type": "code",
   "execution_count": null,
   "id": "6e4f366f-db5c-4a45-b31c-51c72716c85b",
   "metadata": {},
   "outputs": [],
   "source": []
  }
 ],
 "metadata": {
  "kernelspec": {
   "display_name": "Python 3 (ipykernel)",
   "language": "python",
   "name": "python3"
  },
  "language_info": {
   "codemirror_mode": {
    "name": "ipython",
    "version": 3
   },
   "file_extension": ".py",
   "mimetype": "text/x-python",
   "name": "python",
   "nbconvert_exporter": "python",
   "pygments_lexer": "ipython3",
   "version": "3.9.9"
  }
 },
 "nbformat": 4,
 "nbformat_minor": 5
}
