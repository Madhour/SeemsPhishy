{
 "cells": [
  {
   "cell_type": "markdown",
   "id": "7dde3a95-9018-4145-8e66-a35fa2ecfd52",
   "metadata": {},
   "source": [
    "## Keywords mit Spacy"
   ]
  },
  {
   "cell_type": "code",
   "execution_count": 4,
   "id": "6fdf81df-9919-4821-acb3-15f8ecde6f4d",
   "metadata": {},
   "outputs": [
    {
     "name": "stdout",
     "output_type": "stream",
     "text": [
      "(Cython, MIT, Matthew Honnibal, Ines Montani, Explosion)\n"
     ]
    }
   ],
   "source": [
    "import spacy\n",
    "nlp = spacy.load(\"en_core_web_lg\")\n",
    "text = \"\"\"spaCy is an open-source software library for advanced natural language processing, \n",
    "written in the programming languages Python and Cython. The library is published under the MIT license\n",
    "and its main developers are Matthew Honnibal and Ines Montani, the founders of the software company Explosion.\"\"\"\n",
    "doc = nlp(text)\n",
    "print(doc.ents)"
   ]
  },
  {
   "cell_type": "markdown",
   "id": "80bfe10c-bf70-40a0-8222-ea78c432cd64",
   "metadata": {},
   "source": [
    "## Keywords mit Yake"
   ]
  },
  {
   "cell_type": "code",
   "execution_count": 2,
   "id": "090f93f5-974e-41dd-9c7a-7c80ee5a7757",
   "metadata": {},
   "outputs": [
    {
     "name": "stdout",
     "output_type": "stream",
     "text": [
      "('programming languages Python', 0.001295347548560416)\n",
      "('natural language processing', 0.002012136772192602)\n",
      "('advanced natural language', 0.0026621455770583914)\n",
      "('Python and Cython', 0.0035840985079775055)\n",
      "('open-source software library', 0.008298152696966859)\n",
      "('languages Python', 0.009390717577572831)\n",
      "('language processing', 0.01453240965208459)\n",
      "('software company Explosion', 0.015993140254256993)\n",
      "('advanced natural', 0.01840251352140607)\n",
      "('natural language', 0.019161829017826378)\n",
      "('programming languages', 0.019161829017826378)\n",
      "('open-source software', 0.032652195076937375)\n",
      "('Ines Montani', 0.03375876229391358)\n",
      "('Matthew Honnibal', 0.04096703831447956)\n",
      "('Honnibal and Ines', 0.04096703831447956)\n",
      "('Cython', 0.053691021027863564)\n",
      "('software library', 0.05857047036380304)\n",
      "('company Explosion', 0.06120870235178475)\n",
      "('Python', 0.06651575167590484)\n",
      "('library for advanced', 0.07441175006256819)\n"
     ]
    }
   ],
   "source": [
    "import yake\n",
    "kw_extractor = yake.KeywordExtractor()\n",
    "text = \"\"\"spaCy is an open-source software library for advanced natural language processing, written in the programming languages Python and Cython. The library is published under the MIT license and its main developers are Matthew Honnibal and Ines Montani, the founders of the software company Explosion.\"\"\"\n",
    "language = \"en\"\n",
    "max_ngram_size = 3\n",
    "deduplication_threshold = 0.9\n",
    "numOfKeywords = 20\n",
    "custom_kw_extractor = yake.KeywordExtractor(lan=language, n=max_ngram_size, dedupLim=deduplication_threshold, top=numOfKeywords, features=None)\n",
    "keywords = custom_kw_extractor.extract_keywords(text)\n",
    "for kw in keywords:\n",
    "    print(kw)"
   ]
  },
  {
   "cell_type": "markdown",
   "id": "6311723a-a34c-47da-b382-8dbb863b4e05",
   "metadata": {},
   "source": [
    "## Keywords mit Rake-Nltk"
   ]
  },
  {
   "cell_type": "code",
   "execution_count": 8,
   "id": "07546fe3-751d-482c-a33b-c73f0d8d2401",
   "metadata": {},
   "outputs": [
    {
     "name": "stderr",
     "output_type": "stream",
     "text": [
      "[nltk_data] Downloading package stopwords to\n",
      "[nltk_data]     C:\\Users\\Oliver.Wieder\\AppData\\Roaming\\nltk_data...\n",
      "[nltk_data]   Package stopwords is already up-to-date!\n",
      "[nltk_data] Downloading package punkt to\n",
      "[nltk_data]     C:\\Users\\Oliver.Wieder\\AppData\\Roaming\\nltk_data...\n",
      "[nltk_data]   Unzipping tokenizers\\punkt.zip.\n"
     ]
    },
    {
     "name": "stdout",
     "output_type": "stream",
     "text": [
      "['advanced natural language processing', 'software company explosion', 'programming languages python', 'source software library', 'mit license', 'matthew honnibal', 'main developers', 'ines montani', 'library', 'written', 'spacy', 'published', 'open', 'founders', 'cython']\n"
     ]
    }
   ],
   "source": [
    "import nltk\n",
    "nltk.download('stopwords')\n",
    "nltk.download('punkt')\n",
    "from rake_nltk import Rake\n",
    "rake_nltk_var = Rake()\n",
    "text = \"\"\"spaCy is an open-source software library for advanced natural language processing,\n",
    "written in the programming languages Python and Cython. The library is published under the MIT license\n",
    "and its main developers are Matthew Honnibal and Ines Montani, the founders of the software company Explosion.\"\"\"\n",
    "rake_nltk_var.extract_keywords_from_text(text)\n",
    "keyword_extracted = rake_nltk_var.get_ranked_phrases()\n",
    "print(keyword_extracted)"
   ]
  },
  {
   "cell_type": "code",
   "execution_count": 7,
   "id": "f735aed7-6786-4a53-abfc-2948bd418f14",
   "metadata": {},
   "outputs": [
    {
     "name": "stdout",
     "output_type": "stream",
     "text": [
      "drinnen\n",
      "kein txt\n",
      "drinnen\n",
      "kein txt\n",
      "drinnen\n",
      "kein txt\n",
      "drinnen\n",
      "kein txt\n",
      "drinnen\n",
      "kein txt\n",
      "drinnen\n",
      "kein txt\n",
      "drinnen\n",
      "kein txt\n",
      "drinnen\n",
      "kein txt\n",
      "drinnen\n",
      "Line1: spaCy is an open-source software library for advanced natural language processing,\n",
      "()\n",
      "Line2: written in the programming languages Python and Cython. The library is published under the MIT license\n",
      "(Cython, MIT)\n",
      "Line3: and its main developers are Matthew Honnibal and Ines Montani, the founders of the software company Explosion.\n",
      "(Matthew Honnibal, Ines Montani, Explosion)\n",
      "drinnen\n",
      "kein txt\n"
     ]
    }
   ],
   "source": [
    "import spacy\n",
    "from spacy.tokens import Doc\n",
    "import os\n",
    "\n",
    "#gewünschte spacy Modell wird geladen (Sprache: Englisch)\n",
    "nlp = spacy.load(\"en_core_web_lg\")\n",
    "\n",
    "#alle files die im gegebenen directory liegen und mit .txt enden werden gelesen\n",
    "for filename in os.listdir(\"C:\\\\Users\\\\Oliver.Wieder\\\\Jupyterlab\\\\NLP\"):\n",
    "    print(\"drinnen\")\n",
    "    if filename.endswith(\".txt\"): \n",
    "         # print(os.path.join(directory, filename))\n",
    "        file1 = open(filename, 'r')\n",
    "        Lines = file1.readlines() \n",
    "\n",
    "        count = 0\n",
    "        # Strips the newline character\n",
    "        for line in Lines:\n",
    "            count += 1\n",
    "            print(\"Line{}: {}\".format(count, line.strip()))\n",
    "            doc = nlp(line)   \n",
    "            print(doc.ents)\n",
    "    else:\n",
    "        print(\"kein txt\")\n",
    "        continue"
   ]
  },
  {
   "cell_type": "code",
   "execution_count": null,
   "id": "c9c7a37a-8e07-47b4-8fae-838f34304a79",
   "metadata": {},
   "outputs": [],
   "source": []
  }
 ],
 "metadata": {
  "kernelspec": {
   "display_name": "Python 3 (ipykernel)",
   "language": "python",
   "name": "python3"
  },
  "language_info": {
   "codemirror_mode": {
    "name": "ipython",
    "version": 3
   },
   "file_extension": ".py",
   "mimetype": "text/x-python",
   "name": "python",
   "nbconvert_exporter": "python",
   "pygments_lexer": "ipython3",
   "version": "3.9.9"
  }
 },
 "nbformat": 4,
 "nbformat_minor": 5
}
