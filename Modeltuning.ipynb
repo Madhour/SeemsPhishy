{
 "cells": [
  {
   "cell_type": "markdown",
   "id": "39210b72",
   "metadata": {},
   "source": [
    "# Datasets"
   ]
  },
  {
   "cell_type": "markdown",
   "id": "b7f274f6",
   "metadata": {},
   "source": [
    "Main objective:\n",
    "- (1) finetune gpt2 model to generate text based on keywords\n",
    "- (2) text should be as close to question answering as possible\n",
    "- (3) Ideally generated text should include a question inside some tags"
   ]
  },
  {
   "cell_type": "markdown",
   "id": "f755c339",
   "metadata": {},
   "source": [
    "Example:\n",
    "- Real\n",
    "    - Q: How do muscles grow? --> A: \"I hope this answer qualifies as technical, yet simple enough (as I very rarely post here), but the basic idea that I understand is that your muscles rip and tear on a microscopic level when you are working out \\[...\\] by larger muscle fibers.\"\n",
    "\n",
    "- Generation\n",
    "    - <|startoftext|>~^muscles^growth~@How do muscles grow? --> \"I hope this answer \\[...\\] by larger muscle fibers.\"."
   ]
  },
  {
   "cell_type": "markdown",
   "id": "d8c1303b",
   "metadata": {},
   "source": [
    "So given the two keywords \"muscle\" and \"growth\", it generates a question and the corresponding answer. This is because for the intended newsletter format, question-answer-pairs are needed.\n",
    "\n",
    "---"
   ]
  },
  {
   "cell_type": "markdown",
   "id": "d499ab4b",
   "metadata": {},
   "source": [
    "# 1. Model tuning"
   ]
  },
  {
   "cell_type": "markdown",
   "id": "32721980",
   "metadata": {},
   "source": [
    "Reference:\n",
    "- https://hyunjoonlee70.github.io/Blog_Post_3/\n",
    "- https://github.com/mallorbc/GPT_Neo_quotes_dataset/blob/main/quotes_dataset.py"
   ]
  },
  {
   "cell_type": "markdown",
   "id": "33371e61",
   "metadata": {},
   "source": [
    "Potential Datasets:\n",
    "- https://www.kaggle.com/imoore/60k-stack-overflow-questions-with-quality-rate\n",
    "- https://github.com/huggingface/datasets/tree/master/datasets/eli5"
   ]
  },
  {
   "cell_type": "code",
   "execution_count": 3,
   "id": "a6f8ffeb",
   "metadata": {
    "collapsed": true,
    "jupyter": {
     "outputs_hidden": true
    }
   },
   "outputs": [
    {
     "name": "stdout",
     "output_type": "stream",
     "text": [
      "Collecting datasets\n",
      "  Downloading datasets-1.17.0-py3-none-any.whl (306 kB)\n",
      "\u001b[K     |████████████████████████████████| 306 kB 4.9 MB/s eta 0:00:01\n",
      "\u001b[?25hCollecting multiprocess\n",
      "  Downloading multiprocess-0.70.12.2-py38-none-any.whl (128 kB)\n",
      "\u001b[K     |████████████████████████████████| 128 kB 8.0 MB/s eta 0:00:01\n",
      "\u001b[?25hCollecting dill\n",
      "  Downloading dill-0.3.4-py2.py3-none-any.whl (86 kB)\n",
      "\u001b[K     |████████████████████████████████| 86 kB 6.3 MB/s eta 0:00:01\n",
      "\u001b[?25hCollecting pyarrow!=4.0.0,>=3.0.0\n",
      "  Downloading pyarrow-6.0.1-cp38-cp38-macosx_10_13_x86_64.whl (19.1 MB)\n",
      "\u001b[K     |████████████████████████████████| 19.1 MB 681 kB/s eta 0:00:01\n",
      "\u001b[?25hCollecting tqdm>=4.62.1\n",
      "  Using cached tqdm-4.62.3-py2.py3-none-any.whl (76 kB)\n",
      "Collecting aiohttp\n",
      "  Downloading aiohttp-3.8.1-cp38-cp38-macosx_10_9_x86_64.whl (574 kB)\n",
      "\u001b[K     |████████████████████████████████| 574 kB 6.9 MB/s eta 0:00:01\n",
      "\u001b[?25hCollecting xxhash\n",
      "  Downloading xxhash-2.0.2-cp38-cp38-macosx_10_9_x86_64.whl (31 kB)\n",
      "Requirement already satisfied: numpy>=1.17 in /opt/anaconda3/lib/python3.8/site-packages (from datasets) (1.18.5)\n",
      "Collecting fsspec[http]>=2021.05.0\n",
      "  Downloading fsspec-2021.11.1-py3-none-any.whl (132 kB)\n",
      "\u001b[K     |████████████████████████████████| 132 kB 7.4 MB/s eta 0:00:01\n",
      "\u001b[?25hRequirement already satisfied: packaging in /opt/anaconda3/lib/python3.8/site-packages (from datasets) (20.4)\n",
      "Requirement already satisfied: pandas in /opt/anaconda3/lib/python3.8/site-packages (from datasets) (1.0.5)\n",
      "Requirement already satisfied: requests>=2.19.0 in /opt/anaconda3/lib/python3.8/site-packages (from datasets) (2.24.0)\n",
      "Requirement already satisfied: huggingface-hub<1.0.0,>=0.1.0 in /opt/anaconda3/lib/python3.8/site-packages (from datasets) (0.2.1)\n",
      "Collecting charset-normalizer<3.0,>=2.0\n",
      "  Using cached charset_normalizer-2.0.9-py3-none-any.whl (39 kB)\n",
      "Collecting async-timeout<5.0,>=4.0.0a3\n",
      "  Downloading async_timeout-4.0.2-py3-none-any.whl (5.8 kB)\n",
      "Collecting frozenlist>=1.1.1\n",
      "  Downloading frozenlist-1.2.0-cp38-cp38-macosx_10_9_x86_64.whl (81 kB)\n",
      "\u001b[K     |████████████████████████████████| 81 kB 8.0 MB/s eta 0:00:011\n",
      "\u001b[?25hCollecting aiosignal>=1.1.2\n",
      "  Downloading aiosignal-1.2.0-py3-none-any.whl (8.2 kB)\n",
      "Requirement already satisfied: attrs>=17.3.0 in /opt/anaconda3/lib/python3.8/site-packages (from aiohttp->datasets) (19.3.0)\n",
      "Collecting yarl<2.0,>=1.0\n",
      "  Downloading yarl-1.7.2-cp38-cp38-macosx_10_9_x86_64.whl (121 kB)\n",
      "\u001b[K     |████████████████████████████████| 121 kB 7.0 MB/s eta 0:00:01\n",
      "\u001b[?25hCollecting multidict<7.0,>=4.5\n",
      "  Downloading multidict-5.2.0-cp38-cp38-macosx_10_9_x86_64.whl (45 kB)\n",
      "\u001b[K     |████████████████████████████████| 45 kB 7.9 MB/s  eta 0:00:01\n",
      "\u001b[?25hRequirement already satisfied: pyparsing>=2.0.2 in /opt/anaconda3/lib/python3.8/site-packages (from packaging->datasets) (2.4.7)\n",
      "Requirement already satisfied: six in /opt/anaconda3/lib/python3.8/site-packages (from packaging->datasets) (1.15.0)\n",
      "Requirement already satisfied: python-dateutil>=2.6.1 in /opt/anaconda3/lib/python3.8/site-packages (from pandas->datasets) (2.8.1)\n",
      "Requirement already satisfied: pytz>=2017.2 in /opt/anaconda3/lib/python3.8/site-packages (from pandas->datasets) (2020.1)\n",
      "Requirement already satisfied: urllib3!=1.25.0,!=1.25.1,<1.26,>=1.21.1 in /opt/anaconda3/lib/python3.8/site-packages (from requests>=2.19.0->datasets) (1.25.9)\n",
      "Requirement already satisfied: chardet<4,>=3.0.2 in /opt/anaconda3/lib/python3.8/site-packages (from requests>=2.19.0->datasets) (3.0.4)\n",
      "Requirement already satisfied: certifi>=2017.4.17 in /opt/anaconda3/lib/python3.8/site-packages (from requests>=2.19.0->datasets) (2020.6.20)\n",
      "Requirement already satisfied: idna<3,>=2.5 in /opt/anaconda3/lib/python3.8/site-packages (from requests>=2.19.0->datasets) (2.10)\n",
      "Requirement already satisfied: filelock in /opt/anaconda3/lib/python3.8/site-packages (from huggingface-hub<1.0.0,>=0.1.0->datasets) (3.0.12)\n",
      "Requirement already satisfied: typing-extensions>=3.7.4.3 in /opt/anaconda3/lib/python3.8/site-packages (from huggingface-hub<1.0.0,>=0.1.0->datasets) (4.0.1)\n",
      "Requirement already satisfied: pyyaml in /opt/anaconda3/lib/python3.8/site-packages (from huggingface-hub<1.0.0,>=0.1.0->datasets) (5.3.1)\n",
      "\u001b[31mERROR: huggingface-hub 0.2.1 has requirement packaging>=20.9, but you'll have packaging 20.4 which is incompatible.\u001b[0m\n",
      "Installing collected packages: dill, multiprocess, pyarrow, tqdm, charset-normalizer, async-timeout, frozenlist, aiosignal, multidict, yarl, aiohttp, xxhash, fsspec, datasets\n",
      "  Attempting uninstall: tqdm\n",
      "    Found existing installation: tqdm 4.47.0\n",
      "    Uninstalling tqdm-4.47.0:\n",
      "      Successfully uninstalled tqdm-4.47.0\n",
      "  Attempting uninstall: fsspec\n",
      "    Found existing installation: fsspec 0.7.4\n",
      "    Uninstalling fsspec-0.7.4:\n",
      "      Successfully uninstalled fsspec-0.7.4\n",
      "Successfully installed aiohttp-3.8.1 aiosignal-1.2.0 async-timeout-4.0.2 charset-normalizer-2.0.9 datasets-1.17.0 dill-0.3.4 frozenlist-1.2.0 fsspec-2021.11.1 multidict-5.2.0 multiprocess-0.70.12.2 pyarrow-6.0.1 tqdm-4.62.3 xxhash-2.0.2 yarl-1.7.2\n",
      "Note: you may need to restart the kernel to use updated packages.\n"
     ]
    }
   ],
   "source": [
    "pip install datasets"
   ]
  },
  {
   "cell_type": "code",
   "execution_count": 45,
   "id": "0c0098f7",
   "metadata": {},
   "outputs": [],
   "source": [
    "from datasets import list_datasets, load_dataset\n",
    "import pandas as pd\n",
    "import numpy as np"
   ]
  },
  {
   "cell_type": "code",
   "execution_count": 5,
   "id": "ddf5f874",
   "metadata": {
    "collapsed": true,
    "jupyter": {
     "outputs_hidden": true
    }
   },
   "outputs": [
    {
     "data": {
      "application/vnd.jupyter.widget-view+json": {
       "model_id": "daea7e05a38d42b19082c1dacb146fa1",
       "version_major": 2,
       "version_minor": 0
      },
      "text/plain": [
       "Downloading:   0%|          | 0.00/5.63k [00:00<?, ?B/s]"
      ]
     },
     "metadata": {},
     "output_type": "display_data"
    },
    {
     "data": {
      "application/vnd.jupyter.widget-view+json": {
       "model_id": "9e6e9888949e46c288f6df940406ced6",
       "version_major": 2,
       "version_minor": 0
      },
      "text/plain": [
       "Downloading:   0%|          | 0.00/1.29k [00:00<?, ?B/s]"
      ]
     },
     "metadata": {},
     "output_type": "display_data"
    },
    {
     "name": "stdout",
     "output_type": "stream",
     "text": [
      "Downloading and preparing dataset eli5/LFQA_reddit (download: 6.03 MiB, generated: 1.26 GiB, post-processed: Unknown size, total: 1.26 GiB) to /Users/ayman/.cache/huggingface/datasets/eli5/LFQA_reddit/1.0.0/17574e5502a10f41bbd17beba83e22475b499fa62caa1384a3d093fc856fe6fa...\n"
     ]
    },
    {
     "data": {
      "application/vnd.jupyter.widget-view+json": {
       "model_id": "fa6e436d7b3b4f358bb068d114c6eb34",
       "version_major": 2,
       "version_minor": 0
      },
      "text/plain": [
       "Downloading:   0%|          | 0.00/3.50k [00:00<?, ?B/s]"
      ]
     },
     "metadata": {},
     "output_type": "display_data"
    },
    {
     "data": {
      "application/vnd.jupyter.widget-view+json": {
       "model_id": "b1caec6413f149ae8622b1ba0d58c4a8",
       "version_major": 2,
       "version_minor": 0
      },
      "text/plain": [
       "Downloading:   0%|          | 0.00/576M [00:00<?, ?B/s]"
      ]
     },
     "metadata": {},
     "output_type": "display_data"
    },
    {
     "data": {
      "application/vnd.jupyter.widget-view+json": {
       "model_id": "70f09e276ab34fb4a589ec3c8f9d5203",
       "version_major": 2,
       "version_minor": 0
      },
      "text/plain": [
       "Downloading:   0%|          | 0.00/21.1M [00:00<?, ?B/s]"
      ]
     },
     "metadata": {},
     "output_type": "display_data"
    },
    {
     "data": {
      "application/vnd.jupyter.widget-view+json": {
       "model_id": "06abe9318cf04ef5ad86efccc5ac39b6",
       "version_major": 2,
       "version_minor": 0
      },
      "text/plain": [
       "Downloading:   0%|          | 0.00/53.0M [00:00<?, ?B/s]"
      ]
     },
     "metadata": {},
     "output_type": "display_data"
    },
    {
     "data": {
      "application/vnd.jupyter.widget-view+json": {
       "model_id": "d991d80c506b45aca4cf9254cb207e0f",
       "version_major": 2,
       "version_minor": 0
      },
      "text/plain": [
       "Downloading:   0%|          | 0.00/286M [00:00<?, ?B/s]"
      ]
     },
     "metadata": {},
     "output_type": "display_data"
    },
    {
     "data": {
      "application/vnd.jupyter.widget-view+json": {
       "model_id": "8ae224184e054f999d930b9b95369366",
       "version_major": 2,
       "version_minor": 0
      },
      "text/plain": [
       "Downloading:   0%|          | 0.00/9.65M [00:00<?, ?B/s]"
      ]
     },
     "metadata": {},
     "output_type": "display_data"
    },
    {
     "data": {
      "application/vnd.jupyter.widget-view+json": {
       "model_id": "8d255f2d9cb14a66b0278473255b6b2f",
       "version_major": 2,
       "version_minor": 0
      },
      "text/plain": [
       "Downloading:   0%|          | 0.00/17.7M [00:00<?, ?B/s]"
      ]
     },
     "metadata": {},
     "output_type": "display_data"
    },
    {
     "data": {
      "application/vnd.jupyter.widget-view+json": {
       "model_id": "f1ce220ade964ea782843d3ca1f8ef6c",
       "version_major": 2,
       "version_minor": 0
      },
      "text/plain": [
       "Downloading:   0%|          | 0.00/330M [00:00<?, ?B/s]"
      ]
     },
     "metadata": {},
     "output_type": "display_data"
    },
    {
     "data": {
      "application/vnd.jupyter.widget-view+json": {
       "model_id": "89c109239a2e414a87636713664499d9",
       "version_major": 2,
       "version_minor": 0
      },
      "text/plain": [
       "Downloading:   0%|          | 0.00/18.7M [00:00<?, ?B/s]"
      ]
     },
     "metadata": {},
     "output_type": "display_data"
    },
    {
     "data": {
      "application/vnd.jupyter.widget-view+json": {
       "model_id": "0f264dd9ec604f2595e901e521edb0cf",
       "version_major": 2,
       "version_minor": 0
      },
      "text/plain": [
       "Downloading:   0%|          | 0.00/36.2M [00:00<?, ?B/s]"
      ]
     },
     "metadata": {},
     "output_type": "display_data"
    },
    {
     "name": "stdout",
     "output_type": "stream",
     "text": [
      "Dataset eli5 downloaded and prepared to /Users/ayman/.cache/huggingface/datasets/eli5/LFQA_reddit/1.0.0/17574e5502a10f41bbd17beba83e22475b499fa62caa1384a3d093fc856fe6fa. Subsequent calls will reuse this data.\n"
     ]
    },
    {
     "data": {
      "application/vnd.jupyter.widget-view+json": {
       "model_id": "913ed5a4d7d24767bc8f3596562d73aa",
       "version_major": 2,
       "version_minor": 0
      },
      "text/plain": [
       "  0%|          | 0/9 [00:00<?, ?it/s]"
      ]
     },
     "metadata": {},
     "output_type": "display_data"
    }
   ],
   "source": [
    "eli5_dataset = load_dataset('eli5')"
   ]
  },
  {
   "cell_type": "code",
   "execution_count": 32,
   "id": "bfe17cac",
   "metadata": {
    "collapsed": true,
    "jupyter": {
     "outputs_hidden": true
    }
   },
   "outputs": [
    {
     "data": {
      "text/plain": [
       "{'q_id': '1oy5tc',\n",
       " 'title': 'in football whats the point of wasting the first two plays with a rush - up the middle - not regular rush plays i get those',\n",
       " 'selftext': '',\n",
       " 'document': '',\n",
       " 'subreddit': 'explainlikeimfive',\n",
       " 'answers': {'a_id': ['ccwtgnz', 'ccwtmho', 'ccwt946', 'ccwvj0u'],\n",
       "  'text': [\"Keep the defense honest, get a feel for the pass rush, open up the passing game. An offense that's too one dimensional will fail. And those rushes up the middle can be busted wide open sometimes for big yardage.\",\n",
       "   \"If you throw the ball all the time, then the defense will adapt to always cover for a pass.  By doing a simple running play every now and then, you force the defense to stay close and guard against the run.  Sometimes, the offense can catch the defense off guard by faking a run and freeing up their receivers.\\n\\nAlso, you don't have to gain massive yards on every single play.  Sometimes, it works best to gain a few yards at a time.  As long as you get the first down, you are in good shape.\",\n",
       "   'In most cases the O-Line is supposed to make a hole for the running back to go through. If you run too many plays to the outside/throws the defense will catch on.\\n\\nAlso, 2 5 yard plays gets you a new set of downs.',\n",
       "   \"I you don't like those type of plays, watch CFL.  We only get 3 downs so you can't afford to waste one.  Lots more passing.\"],\n",
       "  'score': [3, 2, 2, 2]},\n",
       " 'title_urls': {'url': []},\n",
       " 'selftext_urls': {'url': []},\n",
       " 'answers_urls': {'url': []}}"
      ]
     },
     "execution_count": 32,
     "metadata": {},
     "output_type": "execute_result"
    }
   ],
   "source": [
    "# Provides multiple answers and their scoring\n",
    "# Stored in descending order, only first (best) answer will be considered\n",
    "eli5_dataset[\"train_eli5\"][0]"
   ]
  },
  {
   "cell_type": "code",
   "execution_count": 36,
   "id": "fa338203",
   "metadata": {},
   "outputs": [
    {
     "data": {
      "text/plain": [
       "{'train_eli5': (272634, 9),\n",
       " 'validation_eli5': (9812, 9),\n",
       " 'test_eli5': (24512, 9),\n",
       " 'train_asks': (131778, 9),\n",
       " 'validation_asks': (2281, 9),\n",
       " 'test_asks': (4462, 9),\n",
       " 'train_askh': (98525, 9),\n",
       " 'validation_askh': (4901, 9),\n",
       " 'test_askh': (9764, 9)}"
      ]
     },
     "execution_count": 36,
     "metadata": {},
     "output_type": "execute_result"
    }
   ],
   "source": [
    "eli5_dataset.shape"
   ]
  },
  {
   "cell_type": "code",
   "execution_count": 47,
   "id": "7aad4e19",
   "metadata": {},
   "outputs": [],
   "source": [
    "dataset = eli5_dataset[\"test_eli5\"] #has only 25000 entries, therefor faster model training\n",
    "dataframe = pd.DataFrame(data=dataset)"
   ]
  },
  {
   "cell_type": "code",
   "execution_count": 49,
   "id": "7984479e",
   "metadata": {},
   "outputs": [],
   "source": [
    "dataframe = dataframe.drop(columns=[\"q_id\", \"selftext\", \"document\", \"subreddit\", \"title_urls\", \"selftext_urls\", \"answers_urls\"])"
   ]
  },
  {
   "cell_type": "code",
   "execution_count": 74,
   "id": "14fdb9d4",
   "metadata": {},
   "outputs": [],
   "source": [
    "# filtering the answers\n",
    "for i in dataframe.index:\n",
    "    dataframe.answers[i] = dataframe.answers[i][\"text\"][0]"
   ]
  },
  {
   "cell_type": "code",
   "execution_count": 101,
   "id": "3f52fdb2",
   "metadata": {},
   "outputs": [],
   "source": [
    "# merging question and answers to one\n",
    "dataframe[\"full_text\"] = dataframe[\"title\"] + \" \" + dataframe[\"answers\"]"
   ]
  },
  {
   "cell_type": "code",
   "execution_count": 102,
   "id": "388a8384",
   "metadata": {},
   "outputs": [
    {
     "data": {
      "text/html": [
       "<div>\n",
       "<style scoped>\n",
       "    .dataframe tbody tr th:only-of-type {\n",
       "        vertical-align: middle;\n",
       "    }\n",
       "\n",
       "    .dataframe tbody tr th {\n",
       "        vertical-align: top;\n",
       "    }\n",
       "\n",
       "    .dataframe thead th {\n",
       "        text-align: right;\n",
       "    }\n",
       "</style>\n",
       "<table border=\"1\" class=\"dataframe\">\n",
       "  <thead>\n",
       "    <tr style=\"text-align: right;\">\n",
       "      <th></th>\n",
       "      <th>title</th>\n",
       "      <th>answers</th>\n",
       "      <th>full_text</th>\n",
       "    </tr>\n",
       "  </thead>\n",
       "  <tbody>\n",
       "    <tr>\n",
       "      <th>0</th>\n",
       "      <td>Why do you get chills/goosebumps from hearing ...</td>\n",
       "      <td>I think it's because, at that moment, it's bas...</td>\n",
       "      <td>Why do you get chills/goosebumps from hearing ...</td>\n",
       "    </tr>\n",
       "    <tr>\n",
       "      <th>1</th>\n",
       "      <td>How did studded leather and heavy eye makeup c...</td>\n",
       "      <td>I like to think that leather clothing is rathe...</td>\n",
       "      <td>How did studded leather and heavy eye makeup c...</td>\n",
       "    </tr>\n",
       "    <tr>\n",
       "      <th>2</th>\n",
       "      <td>What's the difference between a bush, a shrub,...</td>\n",
       "      <td>Shrubs and trees are both specifically *woody*...</td>\n",
       "      <td>What's the difference between a bush, a shrub,...</td>\n",
       "    </tr>\n",
       "    <tr>\n",
       "      <th>3</th>\n",
       "      <td>Why is it hard to breathe with a strong air gu...</td>\n",
       "      <td>Moving air = lower pressure. The greater the d...</td>\n",
       "      <td>Why is it hard to breathe with a strong air gu...</td>\n",
       "    </tr>\n",
       "    <tr>\n",
       "      <th>4</th>\n",
       "      <td>how having hereditary cancer genes doesn’t nec...</td>\n",
       "      <td>It's kind of like a \"3 strikes and you're out\"...</td>\n",
       "      <td>how having hereditary cancer genes doesn’t nec...</td>\n",
       "    </tr>\n",
       "    <tr>\n",
       "      <th>...</th>\n",
       "      <td>...</td>\n",
       "      <td>...</td>\n",
       "      <td>...</td>\n",
       "    </tr>\n",
       "    <tr>\n",
       "      <th>24507</th>\n",
       "      <td>Why game companies doesn't release the source ...</td>\n",
       "      <td>Because it's probably not just their code.\\n\\n...</td>\n",
       "      <td>Why game companies doesn't release the source ...</td>\n",
       "    </tr>\n",
       "    <tr>\n",
       "      <th>24508</th>\n",
       "      <td>Why do dogs and cats lift their paws really hi...</td>\n",
       "      <td>They feel as though they can lift their feet o...</td>\n",
       "      <td>Why do dogs and cats lift their paws really hi...</td>\n",
       "    </tr>\n",
       "    <tr>\n",
       "      <th>24509</th>\n",
       "      <td>How are bugs, in software, \"fixed\"?</td>\n",
       "      <td>The first step in fixing a software bug is try...</td>\n",
       "      <td>How are bugs, in software, \"fixed\"? The first ...</td>\n",
       "    </tr>\n",
       "    <tr>\n",
       "      <th>24510</th>\n",
       "      <td>What's the point of a passing lane on the high...</td>\n",
       "      <td>The speed limit tells you how fast you can go,...</td>\n",
       "      <td>What's the point of a passing lane on the high...</td>\n",
       "    </tr>\n",
       "    <tr>\n",
       "      <th>24511</th>\n",
       "      <td>How do forensics determine the cause of a fire...</td>\n",
       "      <td>The short answer is that a building is almost ...</td>\n",
       "      <td>How do forensics determine the cause of a fire...</td>\n",
       "    </tr>\n",
       "  </tbody>\n",
       "</table>\n",
       "<p>24512 rows × 3 columns</p>\n",
       "</div>"
      ],
      "text/plain": [
       "                                                   title  \\\n",
       "0      Why do you get chills/goosebumps from hearing ...   \n",
       "1      How did studded leather and heavy eye makeup c...   \n",
       "2      What's the difference between a bush, a shrub,...   \n",
       "3      Why is it hard to breathe with a strong air gu...   \n",
       "4      how having hereditary cancer genes doesn’t nec...   \n",
       "...                                                  ...   \n",
       "24507  Why game companies doesn't release the source ...   \n",
       "24508  Why do dogs and cats lift their paws really hi...   \n",
       "24509                How are bugs, in software, \"fixed\"?   \n",
       "24510  What's the point of a passing lane on the high...   \n",
       "24511  How do forensics determine the cause of a fire...   \n",
       "\n",
       "                                                 answers  \\\n",
       "0      I think it's because, at that moment, it's bas...   \n",
       "1      I like to think that leather clothing is rathe...   \n",
       "2      Shrubs and trees are both specifically *woody*...   \n",
       "3      Moving air = lower pressure. The greater the d...   \n",
       "4      It's kind of like a \"3 strikes and you're out\"...   \n",
       "...                                                  ...   \n",
       "24507  Because it's probably not just their code.\\n\\n...   \n",
       "24508  They feel as though they can lift their feet o...   \n",
       "24509  The first step in fixing a software bug is try...   \n",
       "24510  The speed limit tells you how fast you can go,...   \n",
       "24511  The short answer is that a building is almost ...   \n",
       "\n",
       "                                               full_text  \n",
       "0      Why do you get chills/goosebumps from hearing ...  \n",
       "1      How did studded leather and heavy eye makeup c...  \n",
       "2      What's the difference between a bush, a shrub,...  \n",
       "3      Why is it hard to breathe with a strong air gu...  \n",
       "4      how having hereditary cancer genes doesn’t nec...  \n",
       "...                                                  ...  \n",
       "24507  Why game companies doesn't release the source ...  \n",
       "24508  Why do dogs and cats lift their paws really hi...  \n",
       "24509  How are bugs, in software, \"fixed\"? The first ...  \n",
       "24510  What's the point of a passing lane on the high...  \n",
       "24511  How do forensics determine the cause of a fire...  \n",
       "\n",
       "[24512 rows x 3 columns]"
      ]
     },
     "execution_count": 102,
     "metadata": {},
     "output_type": "execute_result"
    }
   ],
   "source": [
    "dataframe"
   ]
  },
  {
   "cell_type": "markdown",
   "id": "1b7b0884",
   "metadata": {},
   "source": [
    "## Keyword extraction"
   ]
  },
  {
   "cell_type": "code",
   "execution_count": 107,
   "id": "9a4d4079",
   "metadata": {
    "collapsed": true,
    "jupyter": {
     "outputs_hidden": true
    }
   },
   "outputs": [
    {
     "name": "stdout",
     "output_type": "stream",
     "text": [
      "Collecting yake\n",
      "  Downloading yake-0.4.8-py2.py3-none-any.whl (60 kB)\n",
      "\u001b[K     |████████████████████████████████| 60 kB 4.4 MB/s eta 0:00:011\n",
      "\u001b[?25hCollecting jellyfish\n",
      "  Downloading jellyfish-0.8.9-cp38-cp38-macosx_10_14_x86_64.whl (24 kB)\n",
      "Requirement already satisfied: networkx in /opt/anaconda3/lib/python3.8/site-packages (from yake) (2.4)\n",
      "Collecting segtok\n",
      "  Downloading segtok-1.5.11-py3-none-any.whl (24 kB)\n",
      "Requirement already satisfied: numpy in /opt/anaconda3/lib/python3.8/site-packages (from yake) (1.18.5)\n",
      "Collecting tabulate\n",
      "  Downloading tabulate-0.8.9-py3-none-any.whl (25 kB)\n",
      "Requirement already satisfied: click>=6.0 in /opt/anaconda3/lib/python3.8/site-packages (from yake) (7.1.2)\n",
      "Requirement already satisfied: decorator>=4.3.0 in /opt/anaconda3/lib/python3.8/site-packages (from networkx->yake) (4.4.2)\n",
      "Requirement already satisfied: regex in /opt/anaconda3/lib/python3.8/site-packages (from segtok->yake) (2020.6.8)\n",
      "Installing collected packages: jellyfish, segtok, tabulate, yake\n",
      "Successfully installed jellyfish-0.8.9 segtok-1.5.11 tabulate-0.8.9 yake-0.4.8\n",
      "Note: you may need to restart the kernel to use updated packages.\n"
     ]
    }
   ],
   "source": [
    "pip install yake"
   ]
  },
  {
   "cell_type": "code",
   "execution_count": 178,
   "id": "39c566d1",
   "metadata": {},
   "outputs": [],
   "source": [
    "import yake\n",
    "import sys"
   ]
  },
  {
   "cell_type": "code",
   "execution_count": 179,
   "id": "f0429864",
   "metadata": {},
   "outputs": [],
   "source": [
    "def keywords_yake(text, language = \"en\", max_ngram_size = 2, numOfKeywords = 1):\n",
    "\n",
    "    custom_kw_extractor = yake.KeywordExtractor(lan=language, n=max_ngram_size, top=numOfKeywords)\n",
    "    keywords = custom_kw_extractor.extract_keywords(text)\n",
    "    return keywords"
   ]
  },
  {
   "cell_type": "code",
   "execution_count": 180,
   "id": "6cd591df",
   "metadata": {},
   "outputs": [
    {
     "name": "stdout",
     "output_type": "stream",
     "text": [
      "Doing thing 24511"
     ]
    }
   ],
   "source": [
    "for i in dataframe.index:\n",
    "    dataframe[\"keyword\"][i] = keywords_yake(dataframe.full_text[i])[0][0]\n",
    "    sys.stdout.write(\"\\rExtracting keyword: %i\" % i)\n",
    "    sys.stdout.flush()"
   ]
  },
  {
   "cell_type": "code",
   "execution_count": 202,
   "id": "a3672940",
   "metadata": {},
   "outputs": [],
   "source": [
    "sample_df = dataframe[:100]"
   ]
  },
  {
   "cell_type": "markdown",
   "id": "7229b516",
   "metadata": {},
   "source": [
    "# Model"
   ]
  },
  {
   "cell_type": "code",
   "execution_count": 191,
   "id": "31dabb70",
   "metadata": {},
   "outputs": [],
   "source": [
    "from transformers import pipeline, set_seed, GPT2LMHeadModel,  GPT2Tokenizer, GPT2Config, GPT2LMHeadModel"
   ]
  },
  {
   "cell_type": "code",
   "execution_count": 197,
   "id": "8400783e",
   "metadata": {},
   "outputs": [],
   "source": [
    "special_tokens  = { \"bos_token\": \"<|BOS|>\",\n",
    "                    \"eos_token\": \"<|EOS|>\",\n",
    "                    \"unk_token\": \"<|UNK|>\",                    \n",
    "                    \"pad_token\": \"<|PAD|>\",\n",
    "                    \"sep_token\": \"<|SEP|>\"}"
   ]
  },
  {
   "cell_type": "code",
   "execution_count": 185,
   "id": "ef6fa5ff",
   "metadata": {},
   "outputs": [],
   "source": [
    "generator = pipeline('text-generation', model='gpt2')\n",
    "set_seed(42)\n",
    "generator(\"Hello, I'm a language model,\", max_length=30)"
   ]
  },
  {
   "cell_type": "code",
   "execution_count": 198,
   "id": "7b44bedf",
   "metadata": {},
   "outputs": [],
   "source": [
    "tokenizer = GPT2Tokenizer.from_pretrained('gpt2').add_special_tokens(special_tokens)"
   ]
  },
  {
   "cell_type": "code",
   "execution_count": 203,
   "id": "3e2234f3",
   "metadata": {},
   "outputs": [
    {
     "data": {
      "text/html": [
       "<div>\n",
       "<style scoped>\n",
       "    .dataframe tbody tr th:only-of-type {\n",
       "        vertical-align: middle;\n",
       "    }\n",
       "\n",
       "    .dataframe tbody tr th {\n",
       "        vertical-align: top;\n",
       "    }\n",
       "\n",
       "    .dataframe thead th {\n",
       "        text-align: right;\n",
       "    }\n",
       "</style>\n",
       "<table border=\"1\" class=\"dataframe\">\n",
       "  <thead>\n",
       "    <tr style=\"text-align: right;\">\n",
       "      <th></th>\n",
       "      <th>title</th>\n",
       "      <th>answers</th>\n",
       "      <th>full_text</th>\n",
       "      <th>keyword</th>\n",
       "    </tr>\n",
       "  </thead>\n",
       "  <tbody>\n",
       "    <tr>\n",
       "      <th>0</th>\n",
       "      <td>Why do you get chills/goosebumps from hearing ...</td>\n",
       "      <td>I think it's because, at that moment, it's bas...</td>\n",
       "      <td>Why do you get chills/goosebumps from hearing ...</td>\n",
       "      <td>crowds sing</td>\n",
       "    </tr>\n",
       "    <tr>\n",
       "      <th>1</th>\n",
       "      <td>How did studded leather and heavy eye makeup c...</td>\n",
       "      <td>I like to think that leather clothing is rathe...</td>\n",
       "      <td>How did studded leather and heavy eye makeup c...</td>\n",
       "      <td>Hollywood dress</td>\n",
       "    </tr>\n",
       "    <tr>\n",
       "      <th>2</th>\n",
       "      <td>What's the difference between a bush, a shrub,...</td>\n",
       "      <td>Shrubs and trees are both specifically *woody*...</td>\n",
       "      <td>What's the difference between a bush, a shrub,...</td>\n",
       "      <td>stems</td>\n",
       "    </tr>\n",
       "    <tr>\n",
       "      <th>3</th>\n",
       "      <td>Why is it hard to breathe with a strong air gu...</td>\n",
       "      <td>Moving air = lower pressure. The greater the d...</td>\n",
       "      <td>Why is it hard to breathe with a strong air gu...</td>\n",
       "      <td>gust blowing</td>\n",
       "    </tr>\n",
       "    <tr>\n",
       "      <th>4</th>\n",
       "      <td>how having hereditary cancer genes doesn’t nec...</td>\n",
       "      <td>It's kind of like a \"3 strikes and you're out\"...</td>\n",
       "      <td>how having hereditary cancer genes doesn’t nec...</td>\n",
       "      <td>n’t necessarily</td>\n",
       "    </tr>\n",
       "    <tr>\n",
       "      <th>...</th>\n",
       "      <td>...</td>\n",
       "      <td>...</td>\n",
       "      <td>...</td>\n",
       "      <td>...</td>\n",
       "    </tr>\n",
       "    <tr>\n",
       "      <th>95</th>\n",
       "      <td>How do normal 3D glasses differ from IMAX 3D g...</td>\n",
       "      <td>3d glasses are meant to make your eyes see sli...</td>\n",
       "      <td>How do normal 3D glasses differ from IMAX 3D g...</td>\n",
       "      <td>glasses</td>\n",
       "    </tr>\n",
       "    <tr>\n",
       "      <th>96</th>\n",
       "      <td>What would happen if the umbilical cord was ne...</td>\n",
       "      <td>It shrivels up and falls off on it's own event...</td>\n",
       "      <td>What would happen if the umbilical cord was ne...</td>\n",
       "      <td>umbilical cord</td>\n",
       "    </tr>\n",
       "    <tr>\n",
       "      <th>97</th>\n",
       "      <td>Why do so many people consider older instrumen...</td>\n",
       "      <td>First of all, there is very little about the \"...</td>\n",
       "      <td>Why do so many people consider older instrumen...</td>\n",
       "      <td>newly made</td>\n",
       "    </tr>\n",
       "    <tr>\n",
       "      <th>98</th>\n",
       "      <td>We've been on the verge of running out of IP a...</td>\n",
       "      <td>[This guy says it well.](_URL_0_)\\n\\n &gt;   Does...</td>\n",
       "      <td>We've been on the verge of running out of IP a...</td>\n",
       "      <td>URL</td>\n",
       "    </tr>\n",
       "    <tr>\n",
       "      <th>99</th>\n",
       "      <td>If Obama doesn't have the authority to close G...</td>\n",
       "      <td>He has plenty of authority.  He doesn't have a...</td>\n",
       "      <td>If Obama doesn't have the authority to close G...</td>\n",
       "      <td>Guantanamo Bay</td>\n",
       "    </tr>\n",
       "  </tbody>\n",
       "</table>\n",
       "<p>100 rows × 4 columns</p>\n",
       "</div>"
      ],
      "text/plain": [
       "                                                title  \\\n",
       "0   Why do you get chills/goosebumps from hearing ...   \n",
       "1   How did studded leather and heavy eye makeup c...   \n",
       "2   What's the difference between a bush, a shrub,...   \n",
       "3   Why is it hard to breathe with a strong air gu...   \n",
       "4   how having hereditary cancer genes doesn’t nec...   \n",
       "..                                                ...   \n",
       "95  How do normal 3D glasses differ from IMAX 3D g...   \n",
       "96  What would happen if the umbilical cord was ne...   \n",
       "97  Why do so many people consider older instrumen...   \n",
       "98  We've been on the verge of running out of IP a...   \n",
       "99  If Obama doesn't have the authority to close G...   \n",
       "\n",
       "                                              answers  \\\n",
       "0   I think it's because, at that moment, it's bas...   \n",
       "1   I like to think that leather clothing is rathe...   \n",
       "2   Shrubs and trees are both specifically *woody*...   \n",
       "3   Moving air = lower pressure. The greater the d...   \n",
       "4   It's kind of like a \"3 strikes and you're out\"...   \n",
       "..                                                ...   \n",
       "95  3d glasses are meant to make your eyes see sli...   \n",
       "96  It shrivels up and falls off on it's own event...   \n",
       "97  First of all, there is very little about the \"...   \n",
       "98  [This guy says it well.](_URL_0_)\\n\\n >   Does...   \n",
       "99  He has plenty of authority.  He doesn't have a...   \n",
       "\n",
       "                                            full_text          keyword  \n",
       "0   Why do you get chills/goosebumps from hearing ...      crowds sing  \n",
       "1   How did studded leather and heavy eye makeup c...  Hollywood dress  \n",
       "2   What's the difference between a bush, a shrub,...            stems  \n",
       "3   Why is it hard to breathe with a strong air gu...     gust blowing  \n",
       "4   how having hereditary cancer genes doesn’t nec...  n’t necessarily  \n",
       "..                                                ...              ...  \n",
       "95  How do normal 3D glasses differ from IMAX 3D g...          glasses  \n",
       "96  What would happen if the umbilical cord was ne...   umbilical cord  \n",
       "97  Why do so many people consider older instrumen...       newly made  \n",
       "98  We've been on the verge of running out of IP a...              URL  \n",
       "99  If Obama doesn't have the authority to close G...   Guantanamo Bay  \n",
       "\n",
       "[100 rows x 4 columns]"
      ]
     },
     "execution_count": 203,
     "metadata": {},
     "output_type": "execute_result"
    }
   ],
   "source": [
    "sample_df"
   ]
  },
  {
   "cell_type": "code",
   "execution_count": 207,
   "id": "d0e95fce",
   "metadata": {},
   "outputs": [
    {
     "ename": "TypeError",
     "evalue": "'int' object is not callable",
     "output_type": "error",
     "traceback": [
      "\u001b[0;31m---------------------------------------------------------------------------\u001b[0m",
      "\u001b[0;31mTypeError\u001b[0m                                 Traceback (most recent call last)",
      "\u001b[0;32m<ipython-input-207-17794f596ab5>\u001b[0m in \u001b[0;36m<module>\u001b[0;34m\u001b[0m\n\u001b[1;32m      5\u001b[0m \u001b[0;32mfor\u001b[0m \u001b[0mi\u001b[0m \u001b[0;32min\u001b[0m \u001b[0msample_df\u001b[0m\u001b[0;34m.\u001b[0m\u001b[0mindex\u001b[0m\u001b[0;34m:\u001b[0m\u001b[0;34m\u001b[0m\u001b[0;34m\u001b[0m\u001b[0m\n\u001b[1;32m      6\u001b[0m \u001b[0;34m\u001b[0m\u001b[0m\n\u001b[0;32m----> 7\u001b[0;31m   \u001b[0mencodings_dict\u001b[0m \u001b[0;34m=\u001b[0m \u001b[0mtokenizer\u001b[0m\u001b[0;34m(\u001b[0m\u001b[0;34m'<|BOS|>'\u001b[0m\u001b[0;34m+\u001b[0m \u001b[0msample_df\u001b[0m\u001b[0;34m.\u001b[0m\u001b[0mkeyword\u001b[0m\u001b[0;34m[\u001b[0m\u001b[0mi\u001b[0m\u001b[0;34m]\u001b[0m \u001b[0;34m+\u001b[0m \u001b[0;34m'<|SEP|>'\u001b[0m \u001b[0;34m+\u001b[0m \u001b[0msample_df\u001b[0m\u001b[0;34m.\u001b[0m\u001b[0mfull_text\u001b[0m\u001b[0;34m[\u001b[0m\u001b[0mi\u001b[0m\u001b[0;34m]\u001b[0m \u001b[0;34m+\u001b[0m \u001b[0;34m'<|EOS|>'\u001b[0m\u001b[0;34m,\u001b[0m \u001b[0mtruncation\u001b[0m\u001b[0;34m=\u001b[0m\u001b[0;32mTrue\u001b[0m\u001b[0;34m,\u001b[0m \u001b[0mmax_length\u001b[0m\u001b[0;34m=\u001b[0m\u001b[0mmax_length\u001b[0m\u001b[0;34m,\u001b[0m \u001b[0mpadding\u001b[0m\u001b[0;34m=\u001b[0m\u001b[0;34m\"max_length\"\u001b[0m\u001b[0;34m)\u001b[0m\u001b[0;34m\u001b[0m\u001b[0;34m\u001b[0m\u001b[0m\n\u001b[0m\u001b[1;32m      8\u001b[0m \u001b[0;34m\u001b[0m\u001b[0m\n\u001b[1;32m      9\u001b[0m   \u001b[0minput_ids\u001b[0m\u001b[0;34m.\u001b[0m\u001b[0mappend\u001b[0m\u001b[0;34m(\u001b[0m\u001b[0mtorch\u001b[0m\u001b[0;34m.\u001b[0m\u001b[0mtensor\u001b[0m\u001b[0;34m(\u001b[0m\u001b[0mencodings_dict\u001b[0m\u001b[0;34m[\u001b[0m\u001b[0;34m'input_ids'\u001b[0m\u001b[0;34m]\u001b[0m\u001b[0;34m)\u001b[0m\u001b[0;34m)\u001b[0m\u001b[0;34m\u001b[0m\u001b[0;34m\u001b[0m\u001b[0m\n",
      "\u001b[0;31mTypeError\u001b[0m: 'int' object is not callable"
     ]
    }
   ],
   "source": [
    "input_ids = []\n",
    "attn_masks = []\n",
    "max_length = 768\n",
    "\n",
    "for i in sample_df.index:\n",
    "\n",
    "  encodings_dict = tokenizer('<|BOS|>'+ sample_df.keyword[i] + '<|SEP|>' + sample_df.full_text[i] + '<|EOS|>', truncation=True, max_length=max_length, padding=\"max_length\")\n",
    "\n",
    "  input_ids.append(torch.tensor(encodings_dict['input_ids']))\n",
    "  attn_masks.append(torch.tensor(encodings_dict['attention_mask']))"
   ]
  },
  {
   "cell_type": "code",
   "execution_count": null,
   "id": "8201d962",
   "metadata": {},
   "outputs": [],
   "source": []
  }
 ],
 "metadata": {
  "kernelspec": {
   "display_name": "Python 3",
   "language": "python",
   "name": "python3"
  },
  "language_info": {
   "codemirror_mode": {
    "name": "ipython",
    "version": 3
   },
   "file_extension": ".py",
   "mimetype": "text/x-python",
   "name": "python",
   "nbconvert_exporter": "python",
   "pygments_lexer": "ipython3",
   "version": "3.8.3"
  }
 },
 "nbformat": 4,
 "nbformat_minor": 5
}
